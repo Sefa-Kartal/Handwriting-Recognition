{
 "cells": [
  {
   "cell_type": "code",
   "execution_count": 2,
   "metadata": {},
   "outputs": [],
   "source": [
    "import numpy as np\n",
    "import pandas as pd\n",
    "from keras.preprocessing.image import ImageDataGenerator\n",
    "import os\n",
    "import cv2\n",
    "import imutils\n",
    "import random\n",
    "import matplotlib.pyplot as plt\n",
    "import seaborn as sns\n",
    "from sklearn.preprocessing import LabelBinarizer\n",
    "from keras.utils import np_utils\n",
    "from keras.models import Sequential\n",
    "from keras import optimizers\n",
    "from keras import backend as K\n",
    "from keras.layers import Dense, Activation, Flatten, Dropout\n",
    "from keras.layers import Conv2D, MaxPooling2D, BatchNormalization\n",
    "import tensorflow as tf\n",
    "from tensorflow import keras"
   ]
  },
  {
   "attachments": {},
   "cell_type": "markdown",
   "metadata": {},
   "source": [
    "# Eğitim ve Doğrulama verilerinin hazırlanması"
   ]
  },
  {
   "attachments": {},
   "cell_type": "markdown",
   "metadata": {},
   "source": [
    "#### Veriseti linki: https://www.kaggle.com/datasets/vaibhao/handwritten-characters (Verisetinde 'O' harfi '0'(sıfır)'ın içine koyulmuş, Görseller taranıp 'O' harfi için ayıklandı)"
   ]
  },
  {
   "cell_type": "code",
   "execution_count": 3,
   "metadata": {},
   "outputs": [],
   "source": [
    "dir = \"Train/\"\n",
    "train_data = []\n",
    "img_size = 32\n",
    "non_chars = [\"#\",\"$\",\"&\",\"@\"]\n",
    "for i in os.listdir(dir):\n",
    "    if i in non_chars:\n",
    "        continue\n",
    "    sub_directory = os.path.join(dir,i)\n",
    "    for j in os.listdir(sub_directory):\n",
    "        img = cv2.imread(os.path.join(sub_directory,j),0)\n",
    "        img = cv2.resize(img,(img_size,img_size))\n",
    "        train_data.append([img,i])"
   ]
  },
  {
   "cell_type": "code",
   "execution_count": 4,
   "metadata": {},
   "outputs": [],
   "source": [
    "val_dir = \"Validation/\"\n",
    "val_data = []\n",
    "img_size = 32\n",
    "for i in os.listdir(val_dir):\n",
    "    if i in non_chars:\n",
    "        continue\n",
    "    sub_directory = os.path.join(val_dir,i)\n",
    "    for j in os.listdir(sub_directory):\n",
    "        img = cv2.imread(os.path.join(sub_directory,j),0)\n",
    "        img = cv2.resize(img,(img_size,img_size))\n",
    "        val_data.append([img,i])"
   ]
  },
  {
   "cell_type": "code",
   "execution_count": 5,
   "metadata": {},
   "outputs": [],
   "source": [
    "train_X = []\n",
    "train_Y = []\n",
    "for features,label in train_data:\n",
    "    train_X.append(features)\n",
    "    train_Y.append(label)"
   ]
  },
  {
   "cell_type": "code",
   "execution_count": 6,
   "metadata": {},
   "outputs": [],
   "source": [
    "val_X = []\n",
    "val_Y = []\n",
    "for features,label in val_data:\n",
    "    val_X.append(features)\n",
    "    val_Y.append(label)"
   ]
  },
  {
   "cell_type": "code",
   "execution_count": 7,
   "metadata": {},
   "outputs": [],
   "source": [
    "LB = LabelBinarizer()\n",
    "train_Y = LB.fit_transform(train_Y)\n",
    "val_Y = LB.fit_transform(val_Y)"
   ]
  },
  {
   "cell_type": "code",
   "execution_count": 8,
   "metadata": {},
   "outputs": [],
   "source": [
    "train_X = np.array(train_X)/255.0\n",
    "train_X = train_X.reshape(-1,32,32,1)\n",
    "train_Y = np.array(train_Y)"
   ]
  },
  {
   "cell_type": "code",
   "execution_count": 9,
   "metadata": {},
   "outputs": [],
   "source": [
    "val_X = np.array(val_X)/255.0\n",
    "val_X = val_X.reshape(-1,32,32,1)\n",
    "val_Y = np.array(val_Y)"
   ]
  },
  {
   "attachments": {},
   "cell_type": "markdown",
   "metadata": {},
   "source": [
    "# Evrişimsel Sinir Ağı (CNN) modelinin hazırlanması"
   ]
  },
  {
   "cell_type": "code",
   "execution_count": 13,
   "metadata": {},
   "outputs": [],
   "source": [
    "model = Sequential()\n",
    "\n",
    "model.add(Conv2D(32, (3, 3), padding = \"valid\", activation='swish', input_shape=(32,32,1)))\n",
    "model.add(MaxPooling2D(pool_size=(2,2)))\n",
    "model.add(Conv2D(64, (3, 3), activation='swish'))\n",
    "model.add(MaxPooling2D(pool_size=(2,2)))\n",
    "model.add(Conv2D(128, (3, 3), activation='swish'))\n",
    "model.add(MaxPooling2D(pool_size=(2,2)))\n",
    "model.add(Dropout(0.25))\n",
    " \n",
    "model.add(Flatten())\n",
    "model.add(Dense(128, activation='swish'))\n",
    "model.add(Dropout(0.2))\n",
    "model.add(Dense(36, activation='softmax'))"
   ]
  },
  {
   "cell_type": "code",
   "execution_count": 14,
   "metadata": {},
   "outputs": [],
   "source": [
    "model.compile(loss='categorical_crossentropy', optimizer=\"adam\",metrics=['accuracy'])"
   ]
  },
  {
   "attachments": {},
   "cell_type": "markdown",
   "metadata": {},
   "source": [
    "# Modelin eğitilmesi"
   ]
  },
  {
   "cell_type": "code",
   "execution_count": 15,
   "metadata": {},
   "outputs": [
    {
     "name": "stdout",
     "output_type": "stream",
     "text": [
      "Epoch 1/50\n",
      "23476/23476 [==============================] - 460s 20ms/step - loss: 0.3259 - accuracy: 0.8887 - val_loss: 0.2618 - val_accuracy: 0.9178\n",
      "Epoch 2/50\n",
      "23476/23476 [==============================] - 484s 21ms/step - loss: 0.2508 - accuracy: 0.9116 - val_loss: 0.2459 - val_accuracy: 0.9242\n",
      "Epoch 3/50\n",
      "23476/23476 [==============================] - 477s 20ms/step - loss: 0.2405 - accuracy: 0.9152 - val_loss: 0.2462 - val_accuracy: 0.9223\n",
      "Epoch 4/50\n",
      "23476/23476 [==============================] - 482s 21ms/step - loss: 0.2346 - accuracy: 0.9169 - val_loss: 0.2369 - val_accuracy: 0.9228\n",
      "Epoch 5/50\n",
      "23476/23476 [==============================] - 479s 20ms/step - loss: 0.2316 - accuracy: 0.9177 - val_loss: 0.2318 - val_accuracy: 0.9281\n",
      "Epoch 6/50\n",
      "23476/23476 [==============================] - 473s 20ms/step - loss: 0.2279 - accuracy: 0.9189 - val_loss: 0.2315 - val_accuracy: 0.9302\n",
      "Epoch 7/50\n",
      "23476/23476 [==============================] - 468s 20ms/step - loss: 0.2258 - accuracy: 0.9198 - val_loss: 0.2355 - val_accuracy: 0.9232\n",
      "Epoch 8/50\n",
      "23476/23476 [==============================] - 469s 20ms/step - loss: 0.2241 - accuracy: 0.9200 - val_loss: 0.2337 - val_accuracy: 0.9248\n",
      "Epoch 9/50\n",
      "23476/23476 [==============================] - 470s 20ms/step - loss: 0.2226 - accuracy: 0.9205 - val_loss: 0.2259 - val_accuracy: 0.9312\n",
      "Epoch 10/50\n",
      "23476/23476 [==============================] - 470s 20ms/step - loss: 0.2211 - accuracy: 0.9208 - val_loss: 0.2136 - val_accuracy: 0.9324\n",
      "Epoch 11/50\n",
      "23476/23476 [==============================] - 470s 20ms/step - loss: 0.2210 - accuracy: 0.9210 - val_loss: 0.2281 - val_accuracy: 0.9288\n",
      "Epoch 12/50\n",
      "23476/23476 [==============================] - 471s 20ms/step - loss: 0.2197 - accuracy: 0.9215 - val_loss: 0.2250 - val_accuracy: 0.9279\n",
      "Epoch 13/50\n",
      "23476/23476 [==============================] - 472s 20ms/step - loss: 0.2192 - accuracy: 0.9215 - val_loss: 0.2141 - val_accuracy: 0.9308\n",
      "Epoch 14/50\n",
      "23476/23476 [==============================] - 472s 20ms/step - loss: 0.2181 - accuracy: 0.9220 - val_loss: 0.2303 - val_accuracy: 0.9324\n",
      "Epoch 15/50\n",
      "23476/23476 [==============================] - 473s 20ms/step - loss: 0.2171 - accuracy: 0.9222 - val_loss: 0.2470 - val_accuracy: 0.9210\n",
      "Epoch 16/50\n",
      "23476/23476 [==============================] - 504s 21ms/step - loss: 0.2161 - accuracy: 0.9226 - val_loss: 0.2254 - val_accuracy: 0.9267\n",
      "Epoch 17/50\n",
      "23476/23476 [==============================] - 502s 21ms/step - loss: 0.2170 - accuracy: 0.9223 - val_loss: 0.2158 - val_accuracy: 0.9329\n",
      "Epoch 18/50\n",
      "23476/23476 [==============================] - 478s 20ms/step - loss: 0.2155 - accuracy: 0.9225 - val_loss: 0.2249 - val_accuracy: 0.9331\n",
      "Epoch 19/50\n",
      "23476/23476 [==============================] - 500s 21ms/step - loss: 0.2163 - accuracy: 0.9225 - val_loss: 0.2239 - val_accuracy: 0.9276\n",
      "Epoch 20/50\n",
      "23476/23476 [==============================] - 500s 21ms/step - loss: 0.2143 - accuracy: 0.9229 - val_loss: 0.2143 - val_accuracy: 0.9347\n",
      "Epoch 21/50\n",
      "23476/23476 [==============================] - 487s 21ms/step - loss: 0.2144 - accuracy: 0.9233 - val_loss: 0.2184 - val_accuracy: 0.9329\n",
      "Epoch 22/50\n",
      "23476/23476 [==============================] - 476s 20ms/step - loss: 0.2143 - accuracy: 0.9232 - val_loss: 0.2318 - val_accuracy: 0.9308\n",
      "Epoch 23/50\n",
      "23476/23476 [==============================] - 477s 20ms/step - loss: 0.2144 - accuracy: 0.9229 - val_loss: 0.2384 - val_accuracy: 0.9327\n",
      "Epoch 24/50\n",
      "23476/23476 [==============================] - 477s 20ms/step - loss: 0.2137 - accuracy: 0.9232 - val_loss: 0.2235 - val_accuracy: 0.9312\n",
      "Epoch 25/50\n",
      "23476/23476 [==============================] - 479s 20ms/step - loss: 0.2130 - accuracy: 0.9234 - val_loss: 0.2280 - val_accuracy: 0.9295\n",
      "Epoch 26/50\n",
      "23476/23476 [==============================] - 479s 20ms/step - loss: 0.2129 - accuracy: 0.9234 - val_loss: 0.2245 - val_accuracy: 0.9328\n",
      "Epoch 27/50\n",
      "23476/23476 [==============================] - 480s 20ms/step - loss: 0.2132 - accuracy: 0.9234 - val_loss: 0.2262 - val_accuracy: 0.9315\n",
      "Epoch 28/50\n",
      "23476/23476 [==============================] - 481s 21ms/step - loss: 0.2124 - accuracy: 0.9238 - val_loss: 0.2352 - val_accuracy: 0.9307\n",
      "Epoch 29/50\n",
      "23476/23476 [==============================] - 482s 21ms/step - loss: 0.2122 - accuracy: 0.9236 - val_loss: 0.2147 - val_accuracy: 0.9312\n",
      "Epoch 30/50\n",
      "23476/23476 [==============================] - 481s 21ms/step - loss: 0.2131 - accuracy: 0.9235 - val_loss: 0.2270 - val_accuracy: 0.9302\n",
      "Epoch 31/50\n",
      "23476/23476 [==============================] - 483s 21ms/step - loss: 0.2117 - accuracy: 0.9240 - val_loss: 0.2217 - val_accuracy: 0.9320\n",
      "Epoch 32/50\n",
      "23476/23476 [==============================] - 483s 21ms/step - loss: 0.2117 - accuracy: 0.9238 - val_loss: 0.2241 - val_accuracy: 0.9285\n",
      "Epoch 33/50\n",
      "23476/23476 [==============================] - 537s 23ms/step - loss: 0.2109 - accuracy: 0.9241 - val_loss: 0.2356 - val_accuracy: 0.9297\n",
      "Epoch 34/50\n",
      "23476/23476 [==============================] - 526s 22ms/step - loss: 0.2121 - accuracy: 0.9236 - val_loss: 0.2189 - val_accuracy: 0.9343\n",
      "Epoch 35/50\n",
      "23476/23476 [==============================] - 515s 22ms/step - loss: 0.2114 - accuracy: 0.9242 - val_loss: 0.2357 - val_accuracy: 0.9249\n",
      "Epoch 36/50\n",
      "23476/23476 [==============================] - 539s 23ms/step - loss: 0.2114 - accuracy: 0.9239 - val_loss: 0.2420 - val_accuracy: 0.9311\n",
      "Epoch 37/50\n",
      "23476/23476 [==============================] - 480s 20ms/step - loss: 0.2115 - accuracy: 0.9240 - val_loss: 0.2223 - val_accuracy: 0.9313\n",
      "Epoch 38/50\n",
      "23476/23476 [==============================] - 480s 20ms/step - loss: 0.2102 - accuracy: 0.9244 - val_loss: 0.2367 - val_accuracy: 0.9311\n",
      "Epoch 39/50\n",
      "23476/23476 [==============================] - 482s 21ms/step - loss: 0.2108 - accuracy: 0.9240 - val_loss: 0.2442 - val_accuracy: 0.9240\n",
      "Epoch 40/50\n",
      "23476/23476 [==============================] - 487s 21ms/step - loss: 0.2113 - accuracy: 0.9241 - val_loss: 0.2171 - val_accuracy: 0.9341\n",
      "Epoch 41/50\n",
      "23476/23476 [==============================] - 485s 21ms/step - loss: 0.2099 - accuracy: 0.9245 - val_loss: 0.2293 - val_accuracy: 0.9316\n",
      "Epoch 42/50\n",
      "23476/23476 [==============================] - 494s 21ms/step - loss: 0.2101 - accuracy: 0.9243 - val_loss: 0.2353 - val_accuracy: 0.9282\n",
      "Epoch 43/50\n",
      "23476/23476 [==============================] - 509s 22ms/step - loss: 0.2107 - accuracy: 0.9243 - val_loss: 0.2183 - val_accuracy: 0.9333\n",
      "Epoch 44/50\n",
      "23476/23476 [==============================] - 499s 21ms/step - loss: 0.2097 - accuracy: 0.9241 - val_loss: 0.2333 - val_accuracy: 0.9278\n",
      "Epoch 45/50\n",
      "23476/23476 [==============================] - 492s 21ms/step - loss: 0.2102 - accuracy: 0.9246 - val_loss: 0.2321 - val_accuracy: 0.9311\n",
      "Epoch 46/50\n",
      "23476/23476 [==============================] - 490s 21ms/step - loss: 0.2100 - accuracy: 0.9242 - val_loss: 0.2415 - val_accuracy: 0.9305\n",
      "Epoch 47/50\n",
      "23476/23476 [==============================] - 493s 21ms/step - loss: 0.2104 - accuracy: 0.9242 - val_loss: 0.2260 - val_accuracy: 0.9311\n",
      "Epoch 48/50\n",
      "23476/23476 [==============================] - 512s 22ms/step - loss: 0.2103 - accuracy: 0.9242 - val_loss: 0.2363 - val_accuracy: 0.9279\n",
      "Epoch 49/50\n",
      "23476/23476 [==============================] - 561s 24ms/step - loss: 0.2095 - accuracy: 0.9246 - val_loss: 0.2605 - val_accuracy: 0.9192\n",
      "Epoch 50/50\n",
      "23476/23476 [==============================] - 566s 24ms/step - loss: 0.2099 - accuracy: 0.9248 - val_loss: 0.2355 - val_accuracy: 0.9219\n"
     ]
    }
   ],
   "source": [
    "history = model.fit(train_X,train_Y, epochs=50, batch_size=32, validation_data = (val_X, val_Y),  verbose=1)"
   ]
  },
  {
   "attachments": {},
   "cell_type": "markdown",
   "metadata": {},
   "source": [
    "# Modeli denemek için basit düzeyde sıralama ve görüntü işleme fonksiyonları"
   ]
  },
  {
   "cell_type": "code",
   "execution_count": 16,
   "metadata": {},
   "outputs": [],
   "source": [
    "def sort_contours(cnts, method=\"left-to-right\"):\n",
    "    reverse = False\n",
    "    i = 0\n",
    "    if method == \"right-to-left\" or method == \"bottom-to-top\":\n",
    "        reverse = True\n",
    "    if method == \"top-to-bottom\" or method == \"bottom-to-top\":\n",
    "        i = 1\n",
    "    boundingBoxes = [cv2.boundingRect(c) for c in cnts]\n",
    "    (cnts, boundingBoxes) = zip(*sorted(zip(cnts, boundingBoxes),\n",
    "    key=lambda b:b[1][i], reverse=reverse))\n",
    "    return (cnts, boundingBoxes)"
   ]
  },
  {
   "cell_type": "code",
   "execution_count": 17,
   "metadata": {},
   "outputs": [],
   "source": [
    "def get_letters(img):\n",
    "    LB = LabelBinarizer()\n",
    "    trans = ['0','1','2','3','4','5','6','7','8','9','A','B','C','D','E','F','G','H','I','J','K','L','M','N','O','P','Q','R','S','T','U','V','W','X','Y','Z']\n",
    "    trans = LB.fit_transform(trans)\n",
    "    letters = []\n",
    "    image = cv2.imread(img)\n",
    "    gray = cv2.cvtColor(image, cv2.COLOR_BGR2GRAY)\n",
    "    ret,thresh1 = cv2.threshold(gray ,127,255,cv2.THRESH_BINARY_INV)\n",
    "    dilated = cv2.dilate(thresh1, None, iterations=5)\n",
    "\n",
    "    cnts = cv2.findContours(dilated.copy(), cv2.RETR_EXTERNAL,cv2.CHAIN_APPROX_SIMPLE)\n",
    "    cnts = imutils.grab_contours(cnts)\n",
    "    cnts = sort_contours(cnts, method=\"left-to-right\")[0]\n",
    "    for c in cnts:\n",
    "        if cv2.contourArea(c) > 10:\n",
    "            (x, y, w, h) = cv2.boundingRect(c)\n",
    "            cv2.rectangle(image, (x, y), (x + w, y + h), (0, 255, 0), 2)\n",
    "        roi = gray[y:y + h, x:x + w]\n",
    "        thresh = cv2.threshold(roi, 0, 255,cv2.THRESH_BINARY_INV | cv2.THRESH_OTSU)[1]\n",
    "        thresh = cv2.resize(thresh, (32, 32), interpolation = cv2.INTER_CUBIC)\n",
    "        thresh = thresh.astype(\"float32\") / 255.0\n",
    "        thresh = np.expand_dims(thresh, axis=-1)\n",
    "        thresh = thresh.reshape(1,32,32,1)\n",
    "        ypred = model.predict(thresh)\n",
    "        ypred = LB.inverse_transform(ypred)\n",
    "        [x] = ypred\n",
    "        letters.append(x)\n",
    "    return letters, image\n"
   ]
  },
  {
   "cell_type": "code",
   "execution_count": 18,
   "metadata": {},
   "outputs": [],
   "source": [
    "def get_word(letter):\n",
    "    word = \"\".join(letter)\n",
    "    return word"
   ]
  },
  {
   "attachments": {},
   "cell_type": "markdown",
   "metadata": {},
   "source": [
    "# Modelin denenmesi"
   ]
  },
  {
   "cell_type": "code",
   "execution_count": 19,
   "metadata": {},
   "outputs": [
    {
     "name": "stdout",
     "output_type": "stream",
     "text": [
      "1/1 [==============================] - 0s 315ms/step\n",
      "1/1 [==============================] - 0s 30ms/step\n",
      "1/1 [==============================] - 0s 27ms/step\n",
      "1/1 [==============================] - 0s 27ms/step\n",
      "MERT\n"
     ]
    },
    {
     "data": {
      "text/plain": [
       "<matplotlib.image.AxesImage at 0x1f63bb8cd00>"
      ]
     },
     "execution_count": 19,
     "metadata": {},
     "output_type": "execute_result"
    },
    {
     "data": {
      "image/png": "[encoded data removed]",
      "text/plain": [
       "<Figure size 640x480 with 1 Axes>"
      ]
     },
     "metadata": {},
     "output_type": "display_data"
    }
   ],
   "source": [
    "letter,image = get_letters(\"3.png\")\n",
    "word = get_word(letter)\n",
    "print(word)\n",
    "plt.imshow(image)"
   ]
  },
  {
   "attachments": {},
   "cell_type": "markdown",
   "metadata": {},
   "source": [
    "# Modelin kaydedilmesi"
   ]
  },
  {
   "cell_type": "code",
   "execution_count": 20,
   "metadata": {},
   "outputs": [],
   "source": [
    "model.save(\"handwriting_recognition.h5\")"
   ]
  }
 ],
 "metadata": {
  "kernelspec": {
   "display_name": "Python 3",
   "language": "python",
   "name": "python3"
  },
  "language_info": {
   "codemirror_mode": {
    "name": "ipython",
    "version": 3
   },
   "file_extension": ".py",
   "mimetype": "text/x-python",
   "name": "python",
   "nbconvert_exporter": "python",
   "pygments_lexer": "ipython3",
   "version": "3.9.1 (tags/v3.9.1:1e5d33e, Dec  7 2020, 17:08:21) [MSC v.1927 64 bit (AMD64)]"
  },
  "orig_nbformat": 4,
  "vscode": {
   "interpreter": {
    "hash": "40ffdc16ecf83235644fc50533c41bf992944d3b9f5a78853e6f1df7e95d862b"
   }
  }
 },
 "nbformat": 4,
 "nbformat_minor": 2
}
